{
 "cells": [
  {
   "cell_type": "code",
   "execution_count": 44,
   "metadata": {},
   "outputs": [],
   "source": [
    "import pandas as pd\n",
    "\n",
    "from sklearn.model_selection import train_test_split\n",
    "from sklearn.linear_model import LinearRegression\n",
    "from sklearn.metrics import mean_absolute_error\n",
    "from sklearn.feature_selection import RFE, SelectKBest, f_regression\n",
    "\n",
    "from zipfile import ZipFile"
   ]
  },
  {
   "attachments": {},
   "cell_type": "markdown",
   "metadata": {},
   "source": [
    "**Чтение данных**"
   ]
  },
  {
   "cell_type": "code",
   "execution_count": 45,
   "metadata": {},
   "outputs": [
    {
     "name": "stdout",
     "output_type": "stream",
     "text": [
      "<class 'pandas.core.frame.DataFrame'>\n",
      "RangeIndex: 7017 entries, 0 to 7016\n",
      "Data columns (total 12 columns):\n",
      " #   Column        Non-Null Count  Dtype  \n",
      "---  ------        --------------  -----  \n",
      " 0   price         7017 non-null   int64  \n",
      " 1   year          7017 non-null   int64  \n",
      " 2   condition     7017 non-null   int64  \n",
      " 3   cylinders     7017 non-null   int64  \n",
      " 4   odometer      7017 non-null   int64  \n",
      " 5   title_status  7017 non-null   object \n",
      " 6   transmission  7017 non-null   object \n",
      " 7   drive         6626 non-null   object \n",
      " 8   size          5453 non-null   object \n",
      " 9   lat           7017 non-null   float64\n",
      " 10  long          7017 non-null   float64\n",
      " 11  weather       6837 non-null   float64\n",
      "dtypes: float64(3), int64(5), object(4)\n",
      "memory usage: 658.0+ KB\n"
     ]
    }
   ],
   "source": [
    "with ZipFile('data/data_ford_price.zip') as myzip:\n",
    "    fd = pd.read_excel(myzip.open('data_ford_price.xlsx'))\n",
    "fd.info()"
   ]
  },
  {
   "cell_type": "code",
   "execution_count": 46,
   "metadata": {},
   "outputs": [],
   "source": [
    "# выбираем числовые признаки, разбиваем выборку на тренировочную и валидационную\n",
    "num_columns = fd.select_dtypes(include=['int', 'float']).columns\n",
    "data = fd[num_columns].copy()\n",
    "data.dropna(inplace = True)\n",
    "\n",
    "y = data['price']\n",
    "x = data.drop(columns='price')\n",
    "\n",
    "X_train, X_test, y_train, y_test = train_test_split(x, y, test_size=0.3, random_state=40)"
   ]
  },
  {
   "attachments": {},
   "cell_type": "markdown",
   "metadata": {},
   "source": [
    "**выделим три наиболее значимых признака методом RFE**"
   ]
  },
  {
   "cell_type": "code",
   "execution_count": 47,
   "metadata": {},
   "outputs": [
    {
     "data": {
      "text/plain": [
       "array(['year', 'condition', 'cylinders'], dtype=object)"
      ]
     },
     "execution_count": 47,
     "metadata": {},
     "output_type": "execute_result"
    }
   ],
   "source": [
    "estimator = LinearRegression()\n",
    "selector = RFE(estimator, n_features_to_select=3, step=1)\n",
    "selector = selector.fit(X_train, y_train)\n",
    " \n",
    "selector.get_feature_names_out()"
   ]
  },
  {
   "attachments": {},
   "cell_type": "markdown",
   "metadata": {},
   "source": [
    "**выделим три наиболее значимых признака методом SelectKBest**"
   ]
  },
  {
   "cell_type": "code",
   "execution_count": 48,
   "metadata": {},
   "outputs": [
    {
     "data": {
      "text/plain": [
       "array(['year', 'condition', 'odometer'], dtype=object)"
      ]
     },
     "execution_count": 48,
     "metadata": {},
     "output_type": "execute_result"
    }
   ],
   "source": [
    "selector = SelectKBest(f_regression, k=3)\n",
    "selector.fit(X_train, y_train)\n",
    " \n",
    "selector.get_feature_names_out()"
   ]
  },
  {
   "attachments": {},
   "cell_type": "markdown",
   "metadata": {},
   "source": [
    "**обучим модель на трех признаках от RFE и оценим качество обучения**"
   ]
  },
  {
   "cell_type": "code",
   "execution_count": 49,
   "metadata": {},
   "outputs": [
    {
     "name": "stdout",
     "output_type": "stream",
     "text": [
      "MAE train: 5175.390\n",
      "MAE test:  5011.071\n"
     ]
    }
   ],
   "source": [
    "X_train_rfe = X_train[['year', 'condition', 'cylinders']]\n",
    "X_test_rfe = X_test[['year', 'condition', 'cylinders']]\n",
    "\n",
    "lr_rfe = LinearRegression()\n",
    "lr_rfe.fit(X_train_rfe, y_train)\n",
    "y_train_predicted_rfe = lr_rfe.predict(X_train_rfe)\n",
    "y_test_predicted_rfe = lr_rfe.predict(X_test_rfe)\n",
    " \n",
    "mae_train = mean_absolute_error(y_train, y_train_predicted_rfe)\n",
    "mae_test = mean_absolute_error(y_test, y_test_predicted_rfe)\n",
    "print('MAE train: %.3f' % mae_train)\n",
    "print('MAE test:  %.3f' % mae_test)"
   ]
  },
  {
   "attachments": {},
   "cell_type": "markdown",
   "metadata": {},
   "source": [
    "**обучим модель на трех признаках от SelectKBest и оценим качество обучения**"
   ]
  },
  {
   "cell_type": "code",
   "execution_count": 50,
   "metadata": {},
   "outputs": [
    {
     "name": "stdout",
     "output_type": "stream",
     "text": [
      "MAE train: 4914.638\n",
      "MAE test:  4802.231\n"
     ]
    }
   ],
   "source": [
    "X_train_sb = X_train[['year', 'condition', 'odometer']]\n",
    "X_test_sb = X_test[['year', 'condition', 'odometer']]\n",
    "\n",
    "lr_sb = LinearRegression()\n",
    "lr_sb.fit(X_train_sb, y_train)\n",
    "y_train_predicted_sb = lr_sb.predict(X_train_sb)\n",
    "y_test_predicted_sb = lr_sb.predict(X_test_sb)\n",
    " \n",
    "mae_train = mean_absolute_error(y_train, y_train_predicted_sb)\n",
    "mae_test = mean_absolute_error(y_test, y_test_predicted_sb)\n",
    "print('MAE train: %.3f' % mae_train)\n",
    "print('MAE test:  %.3f' % mae_test)"
   ]
  },
  {
   "attachments": {},
   "cell_type": "markdown",
   "metadata": {},
   "source": [
    "Сравнив MAE на тестовых данных для моделей, обученных на трех лучших признаках от RFE и SelectKBest, можно сказать, что признаки, выбранные SelectKBest, показали лучшую из двух метрику MAE 4802 против 5011. Т.к. MAE - средняя абсолютная ошибка, лучшей считаем ту модель, которая показала меньшую ошибку.\n",
    "\n",
    "Тем не менее, линейная регрессия, обученная на шести признаках в предыдущем юните, показала MAE на тестовых данных 4683, что, несомненно, более хороший результат.\n",
    "\n",
    "Если исключить из рассмотрения параметр condition, то SelectKBest выделит три признака, обучение на которых даст MAE 4709.\n",
    "\n",
    "И только обучение на 4 признаках, выделенных SelectKBest, даст MAE на тестовых данных немного лучше бейслайна - 4669."
   ]
  },
  {
   "attachments": {},
   "cell_type": "markdown",
   "metadata": {},
   "source": [
    "**обучим модель на трех признаках от SelectKBest, исключая condition, и оценим качество обучения**"
   ]
  },
  {
   "cell_type": "code",
   "execution_count": 51,
   "metadata": {},
   "outputs": [
    {
     "name": "stdout",
     "output_type": "stream",
     "text": [
      "MAE train: 4896.205\n",
      "MAE test:  4708.946\n"
     ]
    }
   ],
   "source": [
    "X_train_sbe = X_train[['year', 'cylinders', 'odometer']]\n",
    "X_test_sbe = X_test[['year', 'cylinders', 'odometer']]\n",
    "\n",
    "lr_sbe = LinearRegression()\n",
    "lr_sbe.fit(X_train_sbe, y_train)\n",
    "y_train_predicted_sbe = lr_sbe.predict(X_train_sbe)\n",
    "y_test_predicted_sbe = lr_sbe.predict(X_test_sbe)\n",
    " \n",
    "mae_train = mean_absolute_error(y_train, y_train_predicted_sbe)\n",
    "mae_test = mean_absolute_error(y_test, y_test_predicted_sbe)\n",
    "print('MAE train: %.3f' % mae_train)\n",
    "print('MAE test:  %.3f' % mae_test)"
   ]
  },
  {
   "attachments": {},
   "cell_type": "markdown",
   "metadata": {},
   "source": [
    "**выделим четыре наиболее значимых признака методом SelectKBest**"
   ]
  },
  {
   "cell_type": "code",
   "execution_count": 52,
   "metadata": {},
   "outputs": [
    {
     "data": {
      "text/plain": [
       "array(['year', 'condition', 'cylinders', 'odometer'], dtype=object)"
      ]
     },
     "execution_count": 52,
     "metadata": {},
     "output_type": "execute_result"
    }
   ],
   "source": [
    "selector = SelectKBest(f_regression, k=4)\n",
    "selector.fit(X_train, y_train)\n",
    " \n",
    "selector.get_feature_names_out()"
   ]
  },
  {
   "attachments": {},
   "cell_type": "markdown",
   "metadata": {},
   "source": [
    "**обучим модель на четырех признаках от SelectKBest и оценим качество обучения**"
   ]
  },
  {
   "cell_type": "code",
   "execution_count": 53,
   "metadata": {},
   "outputs": [
    {
     "name": "stdout",
     "output_type": "stream",
     "text": [
      "MAE train: 4815.000\n",
      "MAE test:  4669.432\n"
     ]
    }
   ],
   "source": [
    "X_train_sb4 = X_train[['year', 'condition', 'cylinders', 'odometer']]\n",
    "X_test_sb4 = X_test[['year', 'condition', 'cylinders', 'odometer']]\n",
    "\n",
    "lr_sb4 = LinearRegression()\n",
    "lr_sb4.fit(X_train_sb4, y_train)\n",
    "y_train_predicted_sb4 = lr_sb4.predict(X_train_sb4)\n",
    "y_test_predicted_sb4 = lr_sb4.predict(X_test_sb4)\n",
    " \n",
    "mae_train = mean_absolute_error(y_train, y_train_predicted_sb4)\n",
    "mae_test = mean_absolute_error(y_test, y_test_predicted_sb4)\n",
    "print('MAE train: %.3f' % mae_train)\n",
    "print('MAE test:  %.3f' % mae_test)"
   ]
  }
 ],
 "metadata": {
  "kernelspec": {
   "display_name": "Python 3",
   "language": "python",
   "name": "python3"
  },
  "language_info": {
   "codemirror_mode": {
    "name": "ipython",
    "version": 3
   },
   "file_extension": ".py",
   "mimetype": "text/x-python",
   "name": "python",
   "nbconvert_exporter": "python",
   "pygments_lexer": "ipython3",
   "version": "3.9.12"
  },
  "orig_nbformat": 4
 },
 "nbformat": 4,
 "nbformat_minor": 2
}
